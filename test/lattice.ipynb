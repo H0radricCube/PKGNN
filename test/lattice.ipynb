{
 "cells": [
  {
   "attachments": {},
   "cell_type": "markdown",
   "metadata": {},
   "source": [
    "# reference\n",
    "https://docs.e3nn.org/en/latest/guide/periodic_boundary_conditions.html#example-crystal-structures"
   ]
  },
  {
   "cell_type": "code",
   "execution_count": 1,
   "metadata": {},
   "outputs": [
    {
     "name": "stderr",
     "output_type": "stream",
     "text": [
      "c:\\Users\\HuTia\\Documents\\Coding\\venv\\MachineLearning\\lib\\site-packages\\tqdm\\auto.py:22: TqdmWarning: IProgress not found. Please update jupyter and ipywidgets. See https://ipywidgets.readthedocs.io/en/stable/user_install.html\n",
      "  from .autonotebook import tqdm as notebook_tqdm\n"
     ]
    }
   ],
   "source": [
    "import torch\n",
    "import e3nn\n",
    "import ase\n",
    "import ase.neighborlist\n",
    "import torch_geometric\n",
    "import torch_geometric.data\n",
    "\n",
    "default_dtype = torch.float64\n",
    "torch.set_default_dtype(default_dtype)"
   ]
  },
  {
   "cell_type": "code",
   "execution_count": 21,
   "metadata": {},
   "outputs": [],
   "source": [
    "# A lattice is a 3 x 3 matrix\n",
    "# The first index is the lattice vector (a, b, c)\n",
    "# The second index is a Cartesian index over (x, y, z)\n",
    "\n",
    "# Polonium with Simple Cubic Lattice\n",
    "po_lattice = torch.eye(3) * 3.340  # Cubic lattice with edges of length 3.34 AA\n",
    "po_coords = torch.tensor([[0., 0., 0.,]])\n",
    "po_types = ['Po']\n",
    "\n",
    "# Silicon with Diamond Structure\n",
    "si_lattice = torch.tensor([\n",
    "    [0.      , 2.734364, 2.734364],\n",
    "    [2.734364, 0.      , 2.734364],\n",
    "    [2.734364, 2.734364, 0.      ]\n",
    "])\n",
    "si_coords = torch.tensor([\n",
    "    [1.367182, 1.367182, 1.367182],\n",
    "    [0.      , 0.      , 0.      ]\n",
    "])\n",
    "si_types = ['Si', 'Si']\n",
    "\n",
    "po = ase.Atoms(symbols=po_types, positions=po_coords, cell=po_lattice, pbc=True)\n",
    "si = ase.Atoms(symbols=si_types, positions=si_coords, cell=si_lattice, pbc=True)"
   ]
  },
  {
   "cell_type": "code",
   "execution_count": 3,
   "metadata": {},
   "outputs": [
    {
     "data": {
      "text/plain": [
       "(array([[0., 0., 0.]]),\n",
       " array([[3.34, 0.  , 0.  ],\n",
       "        [0.  , 3.34, 0.  ],\n",
       "        [0.  , 0.  , 3.34]]),\n",
       " Symbols('Po'))"
      ]
     },
     "execution_count": 3,
     "metadata": {},
     "output_type": "execute_result"
    }
   ],
   "source": [
    "po.get_positions(), po.cell.array, po.symbols"
   ]
  },
  {
   "cell_type": "code",
   "execution_count": 8,
   "metadata": {},
   "outputs": [
    {
     "data": {
      "text/plain": [
       "(array([[1.367182, 1.367182, 1.367182],\n",
       "        [0.      , 0.      , 0.      ]]),\n",
       " array([[0.      , 2.734364, 2.734364],\n",
       "        [2.734364, 0.      , 2.734364],\n",
       "        [2.734364, 2.734364, 0.      ]]),\n",
       " Symbols('Si2'))"
      ]
     },
     "execution_count": 8,
     "metadata": {},
     "output_type": "execute_result"
    }
   ],
   "source": [
    "si.get_positions(), si.cell.array, si.symbols"
   ]
  },
  {
   "cell_type": "code",
   "execution_count": 6,
   "metadata": {},
   "outputs": [
    {
     "name": "stdout",
     "output_type": "stream",
     "text": [
      "[0 0 0 0 0 0 0]\n",
      "[0 0 0 0 0 0 0]\n",
      "[[ 0  0  1]\n",
      " [ 0  1  0]\n",
      " [ 1  0  0]\n",
      " [ 0  0  0]\n",
      " [ 0 -1  0]\n",
      " [-1  0  0]\n",
      " [ 0  0 -1]]\n",
      "[0 0 0 0 0 1 1 1 1 1]\n",
      "[1 1 0 1 1 0 1 0 0 0]\n",
      "[[ 0  1  0]\n",
      " [ 1  0  0]\n",
      " [ 0  0  0]\n",
      " [ 0  0  1]\n",
      " [ 0  0  0]\n",
      " [ 0 -1  0]\n",
      " [ 0  0  0]\n",
      " [ 0  0  0]\n",
      " [-1  0  0]\n",
      " [ 0  0 -1]]\n",
      "[Data(x=[1, 2], edge_index=[2, 7], pos=[1, 3], lattice=[1, 3, 3], edge_shift=[7, 3], energy=[1, 1]), Data(x=[2, 2], edge_index=[2, 10], pos=[2, 3], lattice=[1, 3, 3], edge_shift=[10, 3], energy=[1, 1])]\n"
     ]
    },
    {
     "data": {
      "text/plain": [
       "2"
      ]
     },
     "execution_count": 6,
     "metadata": {},
     "output_type": "execute_result"
    }
   ],
   "source": [
    "radial_cutoff = 3.5  # Only include edges for neighboring atoms within a radius of 3.5 Angstroms.\n",
    "type_encoding = {'Po': 0, 'Si': 1}\n",
    "type_onehot = torch.eye(len(type_encoding))\n",
    "\n",
    "dataset = []\n",
    "\n",
    "dummy_energies = torch.randn(2, 1, 1)  # dummy energies for example\n",
    "\n",
    "for crystal, energy in zip([po, si], dummy_energies):\n",
    "    # edge_src and edge_dst are the indices of the central and neighboring atom, respectively\n",
    "    # edge_shift indicates whether the neighbors are in different images / copies of the unit cell\n",
    "    edge_src, edge_dst, edge_shift = ase.neighborlist.neighbor_list(\"ijS\", a=crystal, cutoff=radial_cutoff, self_interaction=True)\n",
    "    print(edge_src)\n",
    "    print(edge_dst)\n",
    "    print(edge_shift)\n",
    "\n",
    "    data = torch_geometric.data.Data(\n",
    "        pos=torch.tensor(crystal.get_positions()),\n",
    "        lattice=torch.tensor(crystal.cell.array).unsqueeze(0),  # We add a dimension for batching\n",
    "        x=type_onehot[[type_encoding[atom] for atom in crystal.symbols]],  # Using \"dummy\" inputs of scalars because they are all C\n",
    "        edge_index=torch.stack([torch.LongTensor(edge_src), torch.LongTensor(edge_dst)], dim=0),\n",
    "        edge_shift=torch.tensor(edge_shift, dtype=default_dtype),\n",
    "        energy=energy  # dummy energy (assumed to be normalized \"per atom\")\n",
    "    )\n",
    "\n",
    "    dataset.append(data)\n",
    "\n",
    "print(dataset)\n",
    "len(dataset)"
   ]
  },
  {
   "cell_type": "code",
   "execution_count": 13,
   "metadata": {},
   "outputs": [
    {
     "data": {
      "text/plain": [
       "(CUB(a=1),\n",
       " 'BCC(a=1)\\n  Variant name: BCC\\n  Special point names: GHPN\\n  Default path: GHNGPH,PN\\n\\n  Special point coordinates:\\n    G   0.0000  0.0000  0.0000\\n    H   0.5000 -0.5000  0.5000\\n    P   0.2500  0.2500  0.2500\\n    N   0.0000  0.0000  0.5000\\n')"
      ]
     },
     "execution_count": 13,
     "metadata": {},
     "output_type": "execute_result"
    }
   ],
   "source": [
    "from ase.lattice import BCC\n",
    "alphairon = BCC(a = 1)\n",
    "alphairon.conventional(), alphairon.description() "
   ]
  },
  {
   "cell_type": "code",
   "execution_count": 22,
   "metadata": {},
   "outputs": [
    {
     "data": {
      "text/plain": [
       "<subprocess.Popen at 0x23703f968d0>"
      ]
     },
     "execution_count": 22,
     "metadata": {},
     "output_type": "execute_result"
    }
   ],
   "source": [
    "from ase.visualize import view\n",
    "view(si)"
   ]
  },
  {
   "cell_type": "code",
   "execution_count": 15,
   "metadata": {},
   "outputs": [
    {
     "data": {
      "text/plain": [
       "Cell([[-0.5, 0.5, 0.5], [0.5, -0.5, 0.5], [0.5, 0.5, -0.5]])"
      ]
     },
     "execution_count": 15,
     "metadata": {},
     "output_type": "execute_result"
    }
   ],
   "source": [
    "alphairon.tocell()"
   ]
  },
  {
   "cell_type": "code",
   "execution_count": 24,
   "metadata": {},
   "outputs": [
    {
     "ename": "TypeError",
     "evalue": "'CUB' object is not iterable",
     "output_type": "error",
     "traceback": [
      "\u001b[1;31m---------------------------------------------------------------------------\u001b[0m",
      "\u001b[1;31mTypeError\u001b[0m                                 Traceback (most recent call last)",
      "\u001b[1;32m~\\AppData\\Local\\Temp\\ipykernel_18684\\3965197681.py\u001b[0m in \u001b[0;36m<module>\u001b[1;34m\u001b[0m\n\u001b[0;32m      1\u001b[0m \u001b[1;32mfrom\u001b[0m \u001b[0mase\u001b[0m\u001b[1;33m.\u001b[0m\u001b[0mlattice\u001b[0m \u001b[1;32mimport\u001b[0m \u001b[0mCUB\u001b[0m\u001b[1;33m\u001b[0m\u001b[0m\n\u001b[0;32m      2\u001b[0m \u001b[0ma\u001b[0m \u001b[1;33m=\u001b[0m \u001b[0mCUB\u001b[0m\u001b[1;33m(\u001b[0m\u001b[0ma\u001b[0m\u001b[1;33m=\u001b[0m\u001b[1;36m1\u001b[0m\u001b[1;33m)\u001b[0m\u001b[1;33m\u001b[0m\u001b[0m\n\u001b[1;32m----> 3\u001b[1;33m \u001b[0mview\u001b[0m\u001b[1;33m(\u001b[0m\u001b[0ma\u001b[0m\u001b[1;33m)\u001b[0m\u001b[1;33m\u001b[0m\u001b[0m\n\u001b[0m",
      "\u001b[1;32mc:\\Users\\HuTia\\Documents\\Coding\\venv\\MachineLearning\\lib\\site-packages\\ase\\visualize\\__init__.py\u001b[0m in \u001b[0;36mview\u001b[1;34m(atoms, data, viewer, repeat, block)\u001b[0m\n\u001b[0;32m      8\u001b[0m \u001b[1;33m\u001b[0m\u001b[0m\n\u001b[0;32m      9\u001b[0m     \u001b[0mvwr\u001b[0m \u001b[1;33m=\u001b[0m \u001b[0mviewers\u001b[0m\u001b[1;33m[\u001b[0m\u001b[0mviewer\u001b[0m\u001b[1;33m.\u001b[0m\u001b[0mlower\u001b[0m\u001b[1;33m(\u001b[0m\u001b[1;33m)\u001b[0m\u001b[1;33m]\u001b[0m\u001b[1;33m\u001b[0m\u001b[0m\n\u001b[1;32m---> 10\u001b[1;33m     \u001b[0mhandle\u001b[0m \u001b[1;33m=\u001b[0m \u001b[0mvwr\u001b[0m\u001b[1;33m.\u001b[0m\u001b[0mview\u001b[0m\u001b[1;33m(\u001b[0m\u001b[0matoms\u001b[0m\u001b[1;33m,\u001b[0m \u001b[0mdata\u001b[0m\u001b[1;33m=\u001b[0m\u001b[0mdata\u001b[0m\u001b[1;33m,\u001b[0m \u001b[0mrepeat\u001b[0m\u001b[1;33m=\u001b[0m\u001b[0mrepeat\u001b[0m\u001b[1;33m)\u001b[0m\u001b[1;33m\u001b[0m\u001b[0m\n\u001b[0m\u001b[0;32m     11\u001b[0m \u001b[1;33m\u001b[0m\u001b[0m\n\u001b[0;32m     12\u001b[0m     \u001b[1;32mif\u001b[0m \u001b[0mblock\u001b[0m \u001b[1;32mand\u001b[0m \u001b[0mhasattr\u001b[0m\u001b[1;33m(\u001b[0m\u001b[0mhandle\u001b[0m\u001b[1;33m,\u001b[0m \u001b[1;34m'wait'\u001b[0m\u001b[1;33m)\u001b[0m\u001b[1;33m:\u001b[0m\u001b[1;33m\u001b[0m\u001b[0m\n",
      "\u001b[1;32mc:\\Users\\HuTia\\Documents\\Coding\\venv\\MachineLearning\\lib\\site-packages\\ase\\visualize\\external.py\u001b[0m in \u001b[0;36mview\u001b[1;34m(self, atoms, data, repeat)\u001b[0m\n\u001b[0;32m     99\u001b[0m         \u001b[0mfunc\u001b[0m \u001b[1;33m=\u001b[0m \u001b[0mgetattr\u001b[0m\u001b[1;33m(\u001b[0m\u001b[0mself\u001b[0m\u001b[1;33m,\u001b[0m \u001b[0mself\u001b[0m\u001b[1;33m.\u001b[0m\u001b[0mname\u001b[0m\u001b[1;33m)\u001b[0m\u001b[1;33m\u001b[0m\u001b[0m\n\u001b[0;32m    100\u001b[0m         \u001b[1;32mif\u001b[0m \u001b[0mself\u001b[0m\u001b[1;33m.\u001b[0m\u001b[0msupports_repeat\u001b[0m\u001b[1;33m:\u001b[0m\u001b[1;33m\u001b[0m\u001b[0m\n\u001b[1;32m--> 101\u001b[1;33m             \u001b[1;32mreturn\u001b[0m \u001b[0mfunc\u001b[0m\u001b[1;33m(\u001b[0m\u001b[0matoms\u001b[0m\u001b[1;33m,\u001b[0m \u001b[0mrepeat\u001b[0m\u001b[1;33m)\u001b[0m\u001b[1;33m\u001b[0m\u001b[0m\n\u001b[0m\u001b[0;32m    102\u001b[0m         \u001b[1;32melse\u001b[0m\u001b[1;33m:\u001b[0m\u001b[1;33m\u001b[0m\u001b[0m\n\u001b[0;32m    103\u001b[0m             \u001b[1;32mif\u001b[0m \u001b[0mrepeat\u001b[0m \u001b[1;32mis\u001b[0m \u001b[1;32mnot\u001b[0m \u001b[1;32mNone\u001b[0m\u001b[1;33m:\u001b[0m\u001b[1;33m\u001b[0m\u001b[0m\n",
      "\u001b[1;32mc:\\Users\\HuTia\\Documents\\Coding\\venv\\MachineLearning\\lib\\site-packages\\ase\\visualize\\external.py\u001b[0m in \u001b[0;36mase\u001b[1;34m(self, atoms, repeat)\u001b[0m\n\u001b[0;32m    118\u001b[0m \u001b[1;33m\u001b[0m\u001b[0m\n\u001b[0;32m    119\u001b[0m     \u001b[1;32mdef\u001b[0m \u001b[0mase\u001b[0m\u001b[1;33m(\u001b[0m\u001b[0mself\u001b[0m\u001b[1;33m,\u001b[0m \u001b[0matoms\u001b[0m\u001b[1;33m,\u001b[0m \u001b[0mrepeat\u001b[0m\u001b[1;33m)\u001b[0m\u001b[1;33m:\u001b[0m\u001b[1;33m\u001b[0m\u001b[0m\n\u001b[1;32m--> 120\u001b[1;33m         \u001b[1;32mreturn\u001b[0m \u001b[0m_pipe_to_ase_gui\u001b[0m\u001b[1;33m(\u001b[0m\u001b[0matoms\u001b[0m\u001b[1;33m,\u001b[0m \u001b[0mrepeat\u001b[0m\u001b[1;33m)\u001b[0m\u001b[1;33m\u001b[0m\u001b[0m\n\u001b[0m\u001b[0;32m    121\u001b[0m \u001b[1;33m\u001b[0m\u001b[0m\n\u001b[0;32m    122\u001b[0m     \u001b[1;33m@\u001b[0m\u001b[0mclassmethod\u001b[0m\u001b[1;33m\u001b[0m\u001b[0m\n",
      "\u001b[1;32mc:\\Users\\HuTia\\Documents\\Coding\\venv\\MachineLearning\\lib\\site-packages\\ase\\visualize\\external.py\u001b[0m in \u001b[0;36m_pipe_to_ase_gui\u001b[1;34m(atoms, repeat)\u001b[0m\n\u001b[0;32m     13\u001b[0m \u001b[1;32mdef\u001b[0m \u001b[0m_pipe_to_ase_gui\u001b[0m\u001b[1;33m(\u001b[0m\u001b[0matoms\u001b[0m\u001b[1;33m,\u001b[0m \u001b[0mrepeat\u001b[0m\u001b[1;33m)\u001b[0m\u001b[1;33m:\u001b[0m\u001b[1;33m\u001b[0m\u001b[0m\n\u001b[0;32m     14\u001b[0m     \u001b[0mbuf\u001b[0m \u001b[1;33m=\u001b[0m \u001b[0mBytesIO\u001b[0m\u001b[1;33m(\u001b[0m\u001b[1;33m)\u001b[0m\u001b[1;33m\u001b[0m\u001b[0m\n\u001b[1;32m---> 15\u001b[1;33m     \u001b[0mwrite\u001b[0m\u001b[1;33m(\u001b[0m\u001b[0mbuf\u001b[0m\u001b[1;33m,\u001b[0m \u001b[0matoms\u001b[0m\u001b[1;33m,\u001b[0m \u001b[0mformat\u001b[0m\u001b[1;33m=\u001b[0m\u001b[1;34m'traj'\u001b[0m\u001b[1;33m)\u001b[0m\u001b[1;33m\u001b[0m\u001b[0m\n\u001b[0m\u001b[0;32m     16\u001b[0m \u001b[1;33m\u001b[0m\u001b[0m\n\u001b[0;32m     17\u001b[0m     \u001b[0margs\u001b[0m \u001b[1;33m=\u001b[0m \u001b[1;33m[\u001b[0m\u001b[0msys\u001b[0m\u001b[1;33m.\u001b[0m\u001b[0mexecutable\u001b[0m\u001b[1;33m,\u001b[0m \u001b[1;34m'-m'\u001b[0m\u001b[1;33m,\u001b[0m \u001b[1;34m'ase'\u001b[0m\u001b[1;33m,\u001b[0m \u001b[1;34m'gui'\u001b[0m\u001b[1;33m,\u001b[0m \u001b[1;34m'-'\u001b[0m\u001b[1;33m]\u001b[0m\u001b[1;33m\u001b[0m\u001b[0m\n",
      "\u001b[1;32mc:\\Users\\HuTia\\Documents\\Coding\\venv\\MachineLearning\\lib\\site-packages\\ase\\io\\formats.py\u001b[0m in \u001b[0;36mwrite\u001b[1;34m(filename, images, format, parallel, append, **kwargs)\u001b[0m\n\u001b[0;32m    627\u001b[0m \u001b[1;33m\u001b[0m\u001b[0m\n\u001b[0;32m    628\u001b[0m     return _write(filename, fd, format, io, images,\n\u001b[1;32m--> 629\u001b[1;33m                   parallel=parallel, append=append, **kwargs)\n\u001b[0m\u001b[0;32m    630\u001b[0m \u001b[1;33m\u001b[0m\u001b[0m\n\u001b[0;32m    631\u001b[0m \u001b[1;33m\u001b[0m\u001b[0m\n",
      "\u001b[1;32mc:\\Users\\HuTia\\Documents\\Coding\\venv\\MachineLearning\\lib\\site-packages\\ase\\parallel.py\u001b[0m in \u001b[0;36mnew_func\u001b[1;34m(*args, **kwargs)\u001b[0m\n\u001b[0;32m    242\u001b[0m             not kwargs.pop('parallel', True)):\n\u001b[0;32m    243\u001b[0m             \u001b[1;31m# Disable:\u001b[0m\u001b[1;33m\u001b[0m\u001b[1;33m\u001b[0m\u001b[0m\n\u001b[1;32m--> 244\u001b[1;33m             \u001b[1;32mreturn\u001b[0m \u001b[0mfunc\u001b[0m\u001b[1;33m(\u001b[0m\u001b[1;33m*\u001b[0m\u001b[0margs\u001b[0m\u001b[1;33m,\u001b[0m \u001b[1;33m**\u001b[0m\u001b[0mkwargs\u001b[0m\u001b[1;33m)\u001b[0m\u001b[1;33m\u001b[0m\u001b[0m\n\u001b[0m\u001b[0;32m    245\u001b[0m \u001b[1;33m\u001b[0m\u001b[0m\n\u001b[0;32m    246\u001b[0m         \u001b[0mex\u001b[0m \u001b[1;33m=\u001b[0m \u001b[1;32mNone\u001b[0m\u001b[1;33m\u001b[0m\u001b[0m\n",
      "\u001b[1;32mc:\\Users\\HuTia\\Documents\\Coding\\venv\\MachineLearning\\lib\\site-packages\\ase\\io\\formats.py\u001b[0m in \u001b[0;36m_write\u001b[1;34m(filename, fd, format, io, images, parallel, append, **kwargs)\u001b[0m\n\u001b[0;32m    662\u001b[0m                 \u001b[1;31m# XXX remember to re-enable compressed open\u001b[0m\u001b[1;33m\u001b[0m\u001b[1;33m\u001b[0m\u001b[0m\n\u001b[0;32m    663\u001b[0m                 \u001b[1;31m# fd = io.open(filename, mode)\u001b[0m\u001b[1;33m\u001b[0m\u001b[1;33m\u001b[0m\u001b[0m\n\u001b[1;32m--> 664\u001b[1;33m             \u001b[1;32mreturn\u001b[0m \u001b[0mio\u001b[0m\u001b[1;33m.\u001b[0m\u001b[0mwrite\u001b[0m\u001b[1;33m(\u001b[0m\u001b[0mfd\u001b[0m\u001b[1;33m,\u001b[0m \u001b[0mimages\u001b[0m\u001b[1;33m,\u001b[0m \u001b[1;33m**\u001b[0m\u001b[0mkwargs\u001b[0m\u001b[1;33m)\u001b[0m\u001b[1;33m\u001b[0m\u001b[0m\n\u001b[0m\u001b[0;32m    665\u001b[0m         \u001b[1;32mfinally\u001b[0m\u001b[1;33m:\u001b[0m\u001b[1;33m\u001b[0m\u001b[0m\n\u001b[0;32m    666\u001b[0m             \u001b[1;32mif\u001b[0m \u001b[0mopen_new\u001b[0m \u001b[1;32mand\u001b[0m \u001b[0mfd\u001b[0m \u001b[1;32mis\u001b[0m \u001b[1;32mnot\u001b[0m \u001b[1;32mNone\u001b[0m\u001b[1;33m:\u001b[0m\u001b[1;33m\u001b[0m\u001b[0m\n",
      "\u001b[1;32mc:\\Users\\HuTia\\Documents\\Coding\\venv\\MachineLearning\\lib\\site-packages\\ase\\io\\formats.py\u001b[0m in \u001b[0;36m_write_wrapper\u001b[1;34m(self, *args, **kwargs)\u001b[0m\n\u001b[0;32m    189\u001b[0m         \u001b[1;32mif\u001b[0m \u001b[0mfunction\u001b[0m \u001b[1;32mis\u001b[0m \u001b[1;32mNone\u001b[0m\u001b[1;33m:\u001b[0m\u001b[1;33m\u001b[0m\u001b[0m\n\u001b[0;32m    190\u001b[0m             \u001b[1;32mraise\u001b[0m \u001b[0mValueError\u001b[0m\u001b[1;33m(\u001b[0m\u001b[1;34mf'Cannot write to {self.name}-format'\u001b[0m\u001b[1;33m)\u001b[0m\u001b[1;33m\u001b[0m\u001b[0m\n\u001b[1;32m--> 191\u001b[1;33m         \u001b[1;32mreturn\u001b[0m \u001b[0mfunction\u001b[0m\u001b[1;33m(\u001b[0m\u001b[1;33m*\u001b[0m\u001b[0margs\u001b[0m\u001b[1;33m,\u001b[0m \u001b[1;33m**\u001b[0m\u001b[0mkwargs\u001b[0m\u001b[1;33m)\u001b[0m\u001b[1;33m\u001b[0m\u001b[0m\n\u001b[0m\u001b[0;32m    192\u001b[0m \u001b[1;33m\u001b[0m\u001b[0m\n\u001b[0;32m    193\u001b[0m     \u001b[1;33m@\u001b[0m\u001b[0mproperty\u001b[0m\u001b[1;33m\u001b[0m\u001b[0m\n",
      "\u001b[1;32mc:\\Users\\HuTia\\Documents\\Coding\\venv\\MachineLearning\\lib\\site-packages\\ase\\io\\trajectory.py\u001b[0m in \u001b[0;36mwrite_traj\u001b[1;34m(fd, images)\u001b[0m\n\u001b[0;32m    412\u001b[0m     \u001b[1;32mif\u001b[0m \u001b[0misinstance\u001b[0m\u001b[1;33m(\u001b[0m\u001b[0mimages\u001b[0m\u001b[1;33m,\u001b[0m \u001b[0mAtoms\u001b[0m\u001b[1;33m)\u001b[0m\u001b[1;33m:\u001b[0m\u001b[1;33m\u001b[0m\u001b[0m\n\u001b[0;32m    413\u001b[0m         \u001b[0mimages\u001b[0m \u001b[1;33m=\u001b[0m \u001b[1;33m[\u001b[0m\u001b[0mimages\u001b[0m\u001b[1;33m]\u001b[0m\u001b[1;33m\u001b[0m\u001b[0m\n\u001b[1;32m--> 414\u001b[1;33m     \u001b[1;32mfor\u001b[0m \u001b[0matoms\u001b[0m \u001b[1;32min\u001b[0m \u001b[0mimages\u001b[0m\u001b[1;33m:\u001b[0m\u001b[1;33m\u001b[0m\u001b[0m\n\u001b[0m\u001b[0;32m    415\u001b[0m         \u001b[0mtrj\u001b[0m\u001b[1;33m.\u001b[0m\u001b[0mwrite\u001b[0m\u001b[1;33m(\u001b[0m\u001b[0matoms\u001b[0m\u001b[1;33m)\u001b[0m\u001b[1;33m\u001b[0m\u001b[0m\n\u001b[0;32m    416\u001b[0m \u001b[1;33m\u001b[0m\u001b[0m\n",
      "\u001b[1;31mTypeError\u001b[0m: 'CUB' object is not iterable"
     ]
    }
   ],
   "source": [
    "from ase.lattice import CUB\n",
    "a = CUB(a=1)\n",
    "view(a)"
   ]
  },
  {
   "cell_type": "code",
   "execution_count": 31,
   "metadata": {},
   "outputs": [
    {
     "name": "stdout",
     "output_type": "stream",
     "text": [
      "tensor([[-2., -2., -2.],\n",
      "        [-2., -2.,  2.],\n",
      "        [-2.,  2., -2.],\n",
      "        [-2.,  2.,  2.],\n",
      "        [ 2., -2., -2.],\n",
      "        [ 2., -2.,  2.],\n",
      "        [ 2.,  2., -2.],\n",
      "        [ 2.,  2.,  2.],\n",
      "        [ 0.,  0.,  0.]])\n"
     ]
    },
    {
     "data": {
      "text/plain": [
       "<subprocess.Popen at 0x23703f96860>"
      ]
     },
     "execution_count": 31,
     "metadata": {},
     "output_type": "execute_result"
    }
   ],
   "source": [
    "fe_lattice = torch.eye(3) * 4\n",
    "fe_coords = (torch.tensor([\n",
    "    [0.      , 0.      , 0.      ],\n",
    "    [0, 0, 1],\n",
    "    [0, 1, 0],\n",
    "    [0, 1, 1],\n",
    "    [1, 0, 0],\n",
    "    [1, 0, 1],\n",
    "    [1, 1, 0],\n",
    "    [1, 1, 1],\n",
    "    [0.5, 0.5, 0.5]\n",
    "]) - 0.5) * 4\n",
    "print(fe_coords)\n",
    "fe_types = ['Fe'] * 9\n",
    "\n",
    "fe = ase.Atoms(symbols=fe_types, positions=fe_coords, cell=fe_lattice, pbc=False)\n",
    "view(fe)"
   ]
  },
  {
   "cell_type": "code",
   "execution_count": null,
   "metadata": {},
   "outputs": [],
   "source": []
  }
 ],
 "metadata": {
  "kernelspec": {
   "display_name": "MachineLearning",
   "language": "python",
   "name": "python3"
  },
  "language_info": {
   "codemirror_mode": {
    "name": "ipython",
    "version": 3
   },
   "file_extension": ".py",
   "mimetype": "text/x-python",
   "name": "python",
   "nbconvert_exporter": "python",
   "pygments_lexer": "ipython3",
   "version": "3.7.0 (v3.7.0:1bf9cc5093, Jun 27 2018, 04:59:51) [MSC v.1914 64 bit (AMD64)]"
  },
  "orig_nbformat": 4,
  "vscode": {
   "interpreter": {
    "hash": "591a575052f7b9ec178a1ce4f948f25f9e99e09432bc195e6c0d34fb9bc25dfd"
   }
  }
 },
 "nbformat": 4,
 "nbformat_minor": 2
}
